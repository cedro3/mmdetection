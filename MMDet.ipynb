{
  "nbformat": 4,
  "nbformat_minor": 0,
  "metadata": {
    "accelerator": "GPU",
    "colab": {
      "name": "MMDet",
      "provenance": [],
      "collapsed_sections": [],
      "include_colab_link": true
    },
    "kernelspec": {
      "display_name": "Python 3",
      "name": "python3"
    }
  },
  "cells": [
    {
      "cell_type": "markdown",
      "metadata": {
        "id": "view-in-github",
        "colab_type": "text"
      },
      "source": [
        "<a href=\"https://colab.research.google.com/github/cedro3/mmdetection/blob/master/MMDet.ipynb\" target=\"_parent\"><img src=\"https://colab.research.google.com/assets/colab-badge.svg\" alt=\"Open In Colab\"/></a>"
      ]
    },
    {
      "cell_type": "markdown",
      "metadata": {
        "id": "tJxJHruNLb7Y"
      },
      "source": [
        "### セットアップ\n",
        "**mmcv-fullのインストールに時間がかかるため、全体で20〜30分かかります）**"
      ]
    },
    {
      "cell_type": "code",
      "metadata": {
        "id": "Wi4LPmsR66sy"
      },
      "source": [
        "# チェックnvcc, gccバージョン\n",
        "!nvcc -V\n",
        "!gcc --version  # 7.5.0\n",
        "\n",
        "# pytorchバージョン変更\n",
        "!pip install -U torch==1.5.1+cu101 torchvision==0.6.1+cu101 -f https://download.pytorch.org/whl/torch_stable.html\n",
        "\n",
        "# mmcv-fullインストール\n",
        "!pip install mmcv-full==1.3.8\n",
        "\n",
        "# githubからコードを取得\n",
        "!rm -rf mmdetection\n",
        "!git clone https://github.com/cedro3/mmdetection.git\n",
        "%cd mmdetection\n",
        "\n",
        "# ライブラリーインストール\n",
        "!pip install -e .\n",
        "\n",
        "# Pillowバージョン変更\n",
        "!pip install Pillow==7.0.0\n",
        "\n",
        "# 学習済みパラメータのダウンロード\n",
        "!mkdir checkpoints\n",
        "!wget -c https://download.openmmlab.com/mmdetection/v2.0/mask_rcnn/mask_rcnn_r50_caffe_fpn_mstrain-poly_3x_coco/mask_rcnn_r50_caffe_fpn_mstrain-poly_3x_coco_bbox_mAP-0.408__segm_mAP-0.37_20200504_163245-42aa3d00.pth \\\n",
        "      -O checkpoints/mask_rcnn_r50_caffe_fpn_mstrain-poly_3x_coco_bbox_mAP-0.408__segm_mAP-0.37_20200504_163245-42aa3d00.pth\n",
        "\n",
        "# 初期設定\n",
        "from mmdet.apis import inference_detector, init_detector, show_result_pyplot\n",
        "config = 'configs/mask_rcnn/mask_rcnn_r50_caffe_fpn_mstrain-poly_3x_coco.py'\n",
        "checkpoint = 'checkpoints/mask_rcnn_r50_caffe_fpn_mstrain-poly_3x_coco_bbox_mAP-0.408__segm_mAP-0.37_20200504_163245-42aa3d00.pth'\n",
        "model = init_detector(config, checkpoint, device='cuda:0')\n",
        "\n",
        "# チェック MMDetectionバージョン\n",
        "import mmdet\n",
        "print(mmdet.__version__)  # 2.17.0\n",
        "\n",
        "# チェック mmcvバージョン\n",
        "from mmcv.ops import get_compiling_cuda_version, get_compiler_version\n",
        "print(get_compiling_cuda_version())  # 11.1\n",
        "print(get_compiler_version())  # GCC 7.5"
      ],
      "execution_count": null,
      "outputs": []
    },
    {
      "cell_type": "markdown",
      "metadata": {
        "id": "89SYa5RonANz"
      },
      "source": [
        "###コード本体"
      ]
    },
    {
      "cell_type": "code",
      "metadata": {
        "id": "Wi6DRpsQPEmV"
      },
      "source": [
        "#@title 画像の物体検出\n",
        "img = 'demo/demo2.jpg'#@param {type:\"string\"}\n",
        "result = inference_detector(model, img)"
      ],
      "execution_count": null,
      "outputs": []
    },
    {
      "cell_type": "code",
      "metadata": {
        "id": "UsJU5D-QPX8L"
      },
      "source": [
        "#@title 検出画像表示\n",
        "show_result_pyplot(model, img, result, score_thr=0.3)"
      ],
      "execution_count": null,
      "outputs": []
    },
    {
      "cell_type": "code",
      "metadata": {
        "id": "atOsQNPeQbE-"
      },
      "source": [
        "#@title 動画の物体検出\n",
        "! python demo/video_demo.py demo/demo2.mp4\\\n",
        "          configs/mask_rcnn/mask_rcnn_r50_caffe_fpn_mstrain-poly_3x_coco.py\\\n",
        "          checkpoints/mask_rcnn_r50_caffe_fpn_mstrain-poly_3x_coco_bbox_mAP-0.408__segm_mAP-0.37_20200504_163245-42aa3d00.pth\\\n",
        "          --out result.mp4"
      ],
      "execution_count": null,
      "outputs": []
    },
    {
      "cell_type": "markdown",
      "metadata": {
        "id": "DmfiIm6EpeAy"
      },
      "source": [
        "**動画はresult.mp4に保存されています**\\\n",
        "**動画は容量が大きい場合はgoogle drive経由でダウンロードして下さい**"
      ]
    }
  ]
}
